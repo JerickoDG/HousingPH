{
 "cells": [
  {
   "cell_type": "code",
   "execution_count": 2,
   "metadata": {},
   "outputs": [],
   "source": [
    "import pandas as pd\n",
    "import matplotlib.pyplot as plt\n",
    "import os"
   ]
  },
  {
   "cell_type": "code",
   "execution_count": 3,
   "metadata": {},
   "outputs": [],
   "source": [
    "DATASET_RAW_PATH = r\"data\\raw\"\n",
    "DATASET_INTERIM_PATH = r\"data\\interim\""
   ]
  },
  {
   "cell_type": "code",
   "execution_count": 10,
   "metadata": {},
   "outputs": [],
   "source": [
    "processed_data = pd.read_csv(os.path.join(\"..\", DATASET_INTERIM_PATH, \"with_regions_and_urbanicity.csv\"))"
   ]
  },
  {
   "cell_type": "code",
   "execution_count": 11,
   "metadata": {},
   "outputs": [
    {
     "data": {
      "text/html": [
       "<div>\n",
       "<style scoped>\n",
       "    .dataframe tbody tr th:only-of-type {\n",
       "        vertical-align: middle;\n",
       "    }\n",
       "\n",
       "    .dataframe tbody tr th {\n",
       "        vertical-align: top;\n",
       "    }\n",
       "\n",
       "    .dataframe thead th {\n",
       "        text-align: right;\n",
       "    }\n",
       "</style>\n",
       "<table border=\"1\" class=\"dataframe\">\n",
       "  <thead>\n",
       "    <tr style=\"text-align: right;\">\n",
       "      <th></th>\n",
       "      <th>Description</th>\n",
       "      <th>Location</th>\n",
       "      <th>Price</th>\n",
       "      <th>Bedrooms</th>\n",
       "      <th>Bathrooms</th>\n",
       "      <th>Floor Area</th>\n",
       "      <th>Land Area</th>\n",
       "      <th>Region</th>\n",
       "      <th>Urbanicity</th>\n",
       "    </tr>\n",
       "  </thead>\n",
       "  <tbody>\n",
       "    <tr>\n",
       "      <th>0</th>\n",
       "      <td>Preselling 2-Storey Townhouses in Village East...</td>\n",
       "      <td>Santo Domingo, Cainta</td>\n",
       "      <td>9500000.0</td>\n",
       "      <td>4.0</td>\n",
       "      <td>3.0</td>\n",
       "      <td>144.00</td>\n",
       "      <td>136.0</td>\n",
       "      <td>Region IV-A</td>\n",
       "      <td>Urban</td>\n",
       "    </tr>\n",
       "    <tr>\n",
       "      <th>1</th>\n",
       "      <td>Affordable House &amp; Lot with Complete Amenities...</td>\n",
       "      <td>San Vicente, Santa Maria</td>\n",
       "      <td>4400000.0</td>\n",
       "      <td>3.0</td>\n",
       "      <td>2.0</td>\n",
       "      <td>63.20</td>\n",
       "      <td>80.0</td>\n",
       "      <td>Region III</td>\n",
       "      <td>Urban</td>\n",
       "    </tr>\n",
       "    <tr>\n",
       "      <th>2</th>\n",
       "      <td>5BR 2-Storey House and Lot for Sale in Tarlac ...</td>\n",
       "      <td>Camella Tarlac Access Rd. Maliwalo, Tarlac</td>\n",
       "      <td>7810000.0</td>\n",
       "      <td>5.0</td>\n",
       "      <td>3.0</td>\n",
       "      <td>100.00</td>\n",
       "      <td>110.0</td>\n",
       "      <td>Region III</td>\n",
       "      <td>Urban</td>\n",
       "    </tr>\n",
       "    <tr>\n",
       "      <th>3</th>\n",
       "      <td>Futura Homes Zamboanga | Amber 2BR Townhouse E...</td>\n",
       "      <td>Zambowood Rd. Boalan, Zamboanga</td>\n",
       "      <td>3275000.0</td>\n",
       "      <td>2.0</td>\n",
       "      <td>1.0</td>\n",
       "      <td>40.32</td>\n",
       "      <td>78.4</td>\n",
       "      <td>Region XI</td>\n",
       "      <td>Urban</td>\n",
       "    </tr>\n",
       "    <tr>\n",
       "      <th>4</th>\n",
       "      <td>2BR 2-Storey Townhouse for Sale at Marytown Pl...</td>\n",
       "      <td>Santa Maria-San Jose Rd. Bulac, Santa Maria</td>\n",
       "      <td>1800000.0</td>\n",
       "      <td>2.0</td>\n",
       "      <td>2.0</td>\n",
       "      <td>52.00</td>\n",
       "      <td>40.0</td>\n",
       "      <td>Region III</td>\n",
       "      <td>Urban</td>\n",
       "    </tr>\n",
       "  </tbody>\n",
       "</table>\n",
       "</div>"
      ],
      "text/plain": [
       "                                         Description  \\\n",
       "0  Preselling 2-Storey Townhouses in Village East...   \n",
       "1  Affordable House & Lot with Complete Amenities...   \n",
       "2  5BR 2-Storey House and Lot for Sale in Tarlac ...   \n",
       "3  Futura Homes Zamboanga | Amber 2BR Townhouse E...   \n",
       "4  2BR 2-Storey Townhouse for Sale at Marytown Pl...   \n",
       "\n",
       "                                      Location      Price  Bedrooms  \\\n",
       "0                        Santo Domingo, Cainta  9500000.0       4.0   \n",
       "1                     San Vicente, Santa Maria  4400000.0       3.0   \n",
       "2   Camella Tarlac Access Rd. Maliwalo, Tarlac  7810000.0       5.0   \n",
       "3              Zambowood Rd. Boalan, Zamboanga  3275000.0       2.0   \n",
       "4  Santa Maria-San Jose Rd. Bulac, Santa Maria  1800000.0       2.0   \n",
       "\n",
       "   Bathrooms  Floor Area  Land Area       Region Urbanicity  \n",
       "0        3.0      144.00      136.0  Region IV-A      Urban  \n",
       "1        2.0       63.20       80.0   Region III      Urban  \n",
       "2        3.0      100.00      110.0   Region III      Urban  \n",
       "3        1.0       40.32       78.4    Region XI      Urban  \n",
       "4        2.0       52.00       40.0   Region III      Urban  "
      ]
     },
     "execution_count": 11,
     "metadata": {},
     "output_type": "execute_result"
    }
   ],
   "source": [
    "processed_data.head()"
   ]
  },
  {
   "cell_type": "markdown",
   "metadata": {},
   "source": [
    "Description and Location columns will be dropped because they were already used to determine the regions from `preprocessing.ipynb`"
   ]
  },
  {
   "cell_type": "code",
   "execution_count": 12,
   "metadata": {},
   "outputs": [],
   "source": [
    "# Drop Description and Location columns\n",
    "processed_data.drop(['Description', 'Location'], axis=1, inplace=True)"
   ]
  },
  {
   "cell_type": "code",
   "execution_count": 13,
   "metadata": {},
   "outputs": [
    {
     "data": {
      "text/plain": [
       "42"
      ]
     },
     "execution_count": 13,
     "metadata": {},
     "output_type": "execute_result"
    }
   ],
   "source": [
    "# Determine the number of rows with no floor and land area\n",
    "len(processed_data[processed_data['Floor Area'].isnull() | processed_data['Land Area'].isnull()])"
   ]
  },
  {
   "cell_type": "markdown",
   "metadata": {},
   "source": [
    "Data imputation might provide misleading patterns that the model learns. We want the model to be as authentic as possible. Personally, I want to avoid it as much as possible and only use it in dire cases such as keeping a time series data complete to form the trend (e.g., weather or stocks).\n",
    "\n",
    "Since there are only 42 rows with no indicated floor and land area, removing them will not hurt much."
   ]
  },
  {
   "cell_type": "code",
   "execution_count": 14,
   "metadata": {},
   "outputs": [],
   "source": [
    "# Drop rows with no floor and land area\n",
    "processed_data = processed_data.dropna(subset=['Floor Area', 'Land Area'])"
   ]
  },
  {
   "cell_type": "code",
   "execution_count": 15,
   "metadata": {},
   "outputs": [
    {
     "data": {
      "image/png": "[encoded data removed]",
      "text/plain": [
       "<Figure size 640x480 with 1 Axes>"
      ]
     },
     "metadata": {},
     "output_type": "display_data"
    }
   ],
   "source": [
    "# Check for missing values\n",
    "plt.title(\"Missing Values Frequency\")\n",
    "processed_data.isnull().sum().plot(kind='bar')\n",
    "plt.show()"
   ]
  },
  {
   "cell_type": "markdown",
   "metadata": {},
   "source": [
    "There are no more missing values. This is now considered as a **clean data** and can be used for exploratory data analysis."
   ]
  },
  {
   "cell_type": "code",
   "execution_count": 16,
   "metadata": {},
   "outputs": [],
   "source": [
    "# Export as an interim data\n",
    "# It is not the final processed data yet\n",
    "processed_data.to_csv(os.path.join(\"..\", DATASET_INTERIM_PATH, \"cleaned_data.csv\"), index=False)"
   ]
  }
 ],
 "metadata": {
  "kernelspec": {
   "display_name": "env",
   "language": "python",
   "name": "python3"
  },
  "language_info": {
   "codemirror_mode": {
    "name": "ipython",
    "version": 3
   },
   "file_extension": ".py",
   "mimetype": "text/x-python",
   "name": "python",
   "nbconvert_exporter": "python",
   "pygments_lexer": "ipython3",
   "version": "3.10.9"
  }
 },
 "nbformat": 4,
 "nbformat_minor": 2
}
