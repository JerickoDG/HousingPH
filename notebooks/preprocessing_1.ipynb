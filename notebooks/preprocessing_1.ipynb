{
 "cells": [
  {
   "cell_type": "code",
   "execution_count": 1,
   "metadata": {},
   "outputs": [],
   "source": [
    "import pandas as pd\n",
    "import matplotlib.pyplot as plt\n",
    "import os\n",
    "import timeit\n",
    "import phgeograpy"
   ]
  },
  {
   "cell_type": "code",
   "execution_count": 21,
   "metadata": {},
   "outputs": [],
   "source": [
    "DATASET_RAW_PATH = r\"data\\raw\"\n",
    "DATASET_INTERIM_PATH = r\"data\\interim\""
   ]
  },
  {
   "cell_type": "code",
   "execution_count": 3,
   "metadata": {},
   "outputs": [],
   "source": [
    "df = pd.read_csv(os.path.join(\"..\", DATASET_RAW_PATH, \"Housing_v2.csv\"))"
   ]
  },
  {
   "cell_type": "code",
   "execution_count": 4,
   "metadata": {},
   "outputs": [
    {
     "data": {
      "text/html": [
       "<div>\n",
       "<style scoped>\n",
       "    .dataframe tbody tr th:only-of-type {\n",
       "        vertical-align: middle;\n",
       "    }\n",
       "\n",
       "    .dataframe tbody tr th {\n",
       "        vertical-align: top;\n",
       "    }\n",
       "\n",
       "    .dataframe thead th {\n",
       "        text-align: right;\n",
       "    }\n",
       "</style>\n",
       "<table border=\"1\" class=\"dataframe\">\n",
       "  <thead>\n",
       "    <tr style=\"text-align: right;\">\n",
       "      <th></th>\n",
       "      <th>Description</th>\n",
       "      <th>Location</th>\n",
       "      <th>Price</th>\n",
       "      <th>Bedrooms</th>\n",
       "      <th>Bathrooms</th>\n",
       "      <th>Floor Area</th>\n",
       "      <th>Land Area</th>\n",
       "      <th>Latitude</th>\n",
       "      <th>Longitude</th>\n",
       "    </tr>\n",
       "  </thead>\n",
       "  <tbody>\n",
       "    <tr>\n",
       "      <th>0</th>\n",
       "      <td>Preselling 2-Storey Townhouses in Village East...</td>\n",
       "      <td>Santo Domingo, Cainta</td>\n",
       "      <td>9500000.0</td>\n",
       "      <td>4.0</td>\n",
       "      <td>3.0</td>\n",
       "      <td>144.00</td>\n",
       "      <td>136.0</td>\n",
       "      <td>14.582341</td>\n",
       "      <td>121.118044</td>\n",
       "    </tr>\n",
       "    <tr>\n",
       "      <th>1</th>\n",
       "      <td>Affordable House &amp; Lot with Complete Amenities...</td>\n",
       "      <td>San Vicente, Santa Maria</td>\n",
       "      <td>4400000.0</td>\n",
       "      <td>3.0</td>\n",
       "      <td>2.0</td>\n",
       "      <td>63.20</td>\n",
       "      <td>80.0</td>\n",
       "      <td>14.807715</td>\n",
       "      <td>121.002402</td>\n",
       "    </tr>\n",
       "    <tr>\n",
       "      <th>2</th>\n",
       "      <td>5BR 2-Storey House and Lot for Sale in Tarlac ...</td>\n",
       "      <td>Camella Tarlac Access Rd. Maliwalo, Tarlac</td>\n",
       "      <td>7810000.0</td>\n",
       "      <td>5.0</td>\n",
       "      <td>3.0</td>\n",
       "      <td>100.00</td>\n",
       "      <td>110.0</td>\n",
       "      <td>NaN</td>\n",
       "      <td>NaN</td>\n",
       "    </tr>\n",
       "    <tr>\n",
       "      <th>3</th>\n",
       "      <td>Maya Solo 3 Bedrooms Single Detached House for...</td>\n",
       "      <td>Gabon, Abucay</td>\n",
       "      <td>NaN</td>\n",
       "      <td>3.0</td>\n",
       "      <td>2.0</td>\n",
       "      <td>67.00</td>\n",
       "      <td>88.0</td>\n",
       "      <td>14.717814</td>\n",
       "      <td>120.531325</td>\n",
       "    </tr>\n",
       "    <tr>\n",
       "      <th>4</th>\n",
       "      <td>Futura Homes Zamboanga | Amber 2BR Townhouse E...</td>\n",
       "      <td>Zambowood Rd. Boalan, Zamboanga</td>\n",
       "      <td>3275000.0</td>\n",
       "      <td>2.0</td>\n",
       "      <td>1.0</td>\n",
       "      <td>40.32</td>\n",
       "      <td>78.4</td>\n",
       "      <td>6.948389</td>\n",
       "      <td>122.114889</td>\n",
       "    </tr>\n",
       "  </tbody>\n",
       "</table>\n",
       "</div>"
      ],
      "text/plain": [
       "                                         Description  \\\n",
       "0  Preselling 2-Storey Townhouses in Village East...   \n",
       "1  Affordable House & Lot with Complete Amenities...   \n",
       "2  5BR 2-Storey House and Lot for Sale in Tarlac ...   \n",
       "3  Maya Solo 3 Bedrooms Single Detached House for...   \n",
       "4  Futura Homes Zamboanga | Amber 2BR Townhouse E...   \n",
       "\n",
       "                                     Location      Price  Bedrooms  Bathrooms  \\\n",
       "0                       Santo Domingo, Cainta  9500000.0       4.0        3.0   \n",
       "1                    San Vicente, Santa Maria  4400000.0       3.0        2.0   \n",
       "2  Camella Tarlac Access Rd. Maliwalo, Tarlac  7810000.0       5.0        3.0   \n",
       "3                               Gabon, Abucay        NaN       3.0        2.0   \n",
       "4             Zambowood Rd. Boalan, Zamboanga  3275000.0       2.0        1.0   \n",
       "\n",
       "   Floor Area  Land Area   Latitude   Longitude  \n",
       "0      144.00      136.0  14.582341  121.118044  \n",
       "1       63.20       80.0  14.807715  121.002402  \n",
       "2      100.00      110.0        NaN         NaN  \n",
       "3       67.00       88.0  14.717814  120.531325  \n",
       "4       40.32       78.4   6.948389  122.114889  "
      ]
     },
     "execution_count": 4,
     "metadata": {},
     "output_type": "execute_result"
    }
   ],
   "source": [
    "df.head()"
   ]
  },
  {
   "cell_type": "code",
   "execution_count": 5,
   "metadata": {},
   "outputs": [
    {
     "name": "stdout",
     "output_type": "stream",
     "text": [
      "<class 'pandas.core.frame.DataFrame'>\n",
      "RangeIndex: 1500 entries, 0 to 1499\n",
      "Data columns (total 9 columns):\n",
      " #   Column       Non-Null Count  Dtype  \n",
      "---  ------       --------------  -----  \n",
      " 0   Description  1500 non-null   object \n",
      " 1   Location     1496 non-null   object \n",
      " 2   Price        1451 non-null   float64\n",
      " 3   Bedrooms     1437 non-null   float64\n",
      " 4   Bathrooms    1420 non-null   float64\n",
      " 5   Floor Area   1463 non-null   float64\n",
      " 6   Land Area    1477 non-null   float64\n",
      " 7   Latitude     1211 non-null   float64\n",
      " 8   Longitude    1211 non-null   float64\n",
      "dtypes: float64(7), object(2)\n",
      "memory usage: 105.6+ KB\n"
     ]
    }
   ],
   "source": [
    "df.info()"
   ]
  },
  {
   "cell_type": "code",
   "execution_count": 6,
   "metadata": {},
   "outputs": [
    {
     "data": {
      "image/png": "[encoded data removed]",
      "text/plain": [
       "<Figure size 640x480 with 1 Axes>"
      ]
     },
     "metadata": {},
     "output_type": "display_data"
    }
   ],
   "source": [
    "plt.title(\"Missing Values Frequency\")\n",
    "df.isnull().sum().plot(kind='bar')\n",
    "plt.show()"
   ]
  },
  {
   "cell_type": "markdown",
   "metadata": {},
   "source": [
    "Data Cleaning Procedures:\n",
    "* Remove Description column as its values vary widely consisting of various characters.\n",
    "* Remove Latitude and Longitude because there is already a Location columns which can be used as a categorical feature. Also, it contains a lot of missing values and the difference among the longitude and latitude of locations within the Philippines vary by a small magnitude which will make the locations seem near each other (which is true in global perspective, but not locally).\n",
    "* If location data is a significant feature, remove rows with missing location because it will be required for predicting prices. Otherwise, simply drop the column.\n",
    "* Remove rows with missing number of bedrooms and bathrooms.\n",
    "* Remove rows with missing price values. It is the target values and must be not interpolated.\n",
    "* Fill-in the missing values for Floor Area and Land Area columns with the mean or average of all the houses within their corresponding regions (Region column will be created)."
   ]
  },
  {
   "cell_type": "code",
   "execution_count": 117,
   "metadata": {},
   "outputs": [],
   "source": [
    "df_copy = df.copy() # Create a copy"
   ]
  },
  {
   "cell_type": "code",
   "execution_count": 118,
   "metadata": {},
   "outputs": [],
   "source": [
    "processed_data = df_copy.drop(['Latitude', 'Longitude'], axis=1) # Drop columns"
   ]
  },
  {
   "cell_type": "code",
   "execution_count": 119,
   "metadata": {},
   "outputs": [],
   "source": [
    "# Drop rows with missing values in the specified columns\n",
    "processed_data = processed_data.dropna(subset=['Price', 'Bedrooms', 'Bathrooms'])"
   ]
  },
  {
   "cell_type": "code",
   "execution_count": 120,
   "metadata": {},
   "outputs": [],
   "source": [
    "processed_data.reset_index(drop=True, inplace=True) # reset index"
   ]
  },
  {
   "cell_type": "code",
   "execution_count": 121,
   "metadata": {},
   "outputs": [
    {
     "data": {
      "image/png": "[encoded data removed]",
      "text/plain": [
       "<Figure size 640x480 with 1 Axes>"
      ]
     },
     "metadata": {},
     "output_type": "display_data"
    }
   ],
   "source": [
    "# Check for missing values\n",
    "plt.title(\"Missing Values Frequency\")\n",
    "processed_data.isnull().sum().plot(kind='bar')\n",
    "plt.show()"
   ]
  },
  {
   "cell_type": "code",
   "execution_count": 122,
   "metadata": {},
   "outputs": [],
   "source": [
    "\"\"\"\n",
    "- For each location, map a region by finding a match in one of its municipalities under its provinces.\n",
    "\"\"\"\n",
    "\n",
    "def map_region(x):\n",
    "\n",
    "    x = x.lower()\n",
    "\n",
    "    if (\"pangasinan\" in x) or (\"iloilo\" in x) or (\"san fernando\" in x):\n",
    "        return \"Region I\"\n",
    "    if (\"tuguegarao\" in x):\n",
    "        return \"Region II\"\n",
    "    if (\"cavite\" in x) or (\"calamba\" in x) or (\"antipolo\" in x) or (\"tanauan\" in x) or (\"laguna\" in x) or (\"rizal\" in x) or (\"tagaytay\" in x) or (\"dasmariñas\" in x) or (\"carmona\" in x) or (\"san mateo\" in x) or (\"cainta\" in x) or (\"binan\" in x):\n",
    "        return \"Region IV-A\"\n",
    "    if (\"nueva ecija\" in x) or (\"bulacan\" in x) or (\"tarlac\" in x) or (\"zambales\" in x) or (\"pampanga\" in x):\n",
    "        return \"Region III\"\n",
    "    if (\"albay\" in x):\n",
    "        return \"Region V\"\n",
    "    if (\"kamuning\" in x) or (\"las pinas\" in x) or (\"bonifacio global city\" in x) or (\"bgc\" in x) or (\"pilar village\" in x) or (\"dasmarinas\" in x) or (\"paranaque\" in x):\n",
    "        return \"NCR\"\n",
    "    if (\"bacolod\" in x):\n",
    "        return \"Region VI\"\n",
    "    if (\"cebu\" in x) or (\"negros oriental\" in x) or (\"koronadal\" in x):\n",
    "        return \"Region VII\"\n",
    "    if (\"surigao del norte\" in x):\n",
    "        return \"Region XIII\"\n",
    "    if (\"davao\" in x) or (\"zamboanga\" in x):\n",
    "        return \"Region XI\"\n",
    "\n",
    "\n",
    "    for region in phgeograpy.regions():\n",
    "        if region.name == 'CAR':\n",
    "            region.name = 'Region XIV'\n",
    "        if region.name.lower() in x:\n",
    "            # print(region.name, \"|||\", x)\n",
    "            return region.name\n",
    "        for province in phgeograpy.regions(region.slug).provinces():\n",
    "            if province.name.lower() in x:\n",
    "                # print(region.name, province.name, \"|||\", x)\n",
    "                return region.name\n",
    "            for municipality in phgeograpy.regions(region.slug).provinces(province.slug).municipalities():\n",
    "                if municipality.name.lower() in x:\n",
    "                    # print(region.name, province.name, municipality.name, \"|||\", x)\n",
    "                    return region.name\n",
    "    \n",
    "\n",
    "    return None"
   ]
  },
  {
   "cell_type": "code",
   "execution_count": 123,
   "metadata": {},
   "outputs": [],
   "source": [
    "# Determining the region based on the given description\n",
    "processed_data['Region'] = processed_data['Description'].apply(map_region)"
   ]
  },
  {
   "cell_type": "code",
   "execution_count": 124,
   "metadata": {},
   "outputs": [],
   "source": [
    "# Determining the regions of the resulting dataframe with no regions using the Location column\n",
    "processed_data.loc[processed_data['Region'].isna(), 'Region'] = processed_data[processed_data['Region'].isna()]['Location'].map(map_region)"
   ]
  },
  {
   "cell_type": "code",
   "execution_count": 127,
   "metadata": {},
   "outputs": [
    {
     "data": {
      "text/plain": [
       "0"
      ]
     },
     "execution_count": 127,
     "metadata": {},
     "output_type": "execute_result"
    }
   ],
   "source": [
    "int(processed_data['Region'].isna().sum()) # There are no more rows with missing region"
   ]
  },
  {
   "cell_type": "code",
   "execution_count": 129,
   "metadata": {},
   "outputs": [],
   "source": [
    "# Save data with regions as an interim data\n",
    "processed_data.to_csv(os.path.join(\"..\", DATASET_INTERIM_PATH, \"with_regions.csv\"), index=False)"
   ]
  }
 ],
 "metadata": {
  "kernelspec": {
   "display_name": "env",
   "language": "python",
   "name": "python3"
  },
  "language_info": {
   "codemirror_mode": {
    "name": "ipython",
    "version": 3
   },
   "file_extension": ".py",
   "mimetype": "text/x-python",
   "name": "python",
   "nbconvert_exporter": "python",
   "pygments_lexer": "ipython3",
   "version": "3.10.9"
  }
 },
 "nbformat": 4,
 "nbformat_minor": 2
}
